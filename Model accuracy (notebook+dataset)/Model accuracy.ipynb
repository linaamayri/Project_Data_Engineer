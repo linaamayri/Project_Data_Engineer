{
 "cells": [
  {
   "cell_type": "code",
   "execution_count": 68,
   "metadata": {},
   "outputs": [
    {
     "name": "stdout",
     "output_type": "stream",
     "text": [
      "Positive accuracy = 81.09567901234568% via 1296 samples\n",
      "Negative accuracy = 85.546875% via 1024 samples\n"
     ]
    }
   ],
   "source": [
    "from textblob import TextBlob\n",
    "\n",
    "pos_count = 0\n",
    "pos_correct = 0\n",
    "\n",
    "with open(\"positive.txt\",\"r\") as f:\n",
    "    for line in f.read().split('\\n'):\n",
    "        analysis = TextBlob(line)\n",
    "\n",
    "        if analysis.sentiment.subjectivity > 0.7:\n",
    "            if analysis.sentiment.polarity > 0:\n",
    "                pos_correct += 1\n",
    "            pos_count +=1\n",
    "\n",
    "\n",
    "neg_count = 0\n",
    "neg_correct = 0\n",
    "\n",
    "with open(\"negative.txt\",\"r\") as f:\n",
    "    for line in f.read().split('\\n'):\n",
    "        analysis = TextBlob(line)\n",
    "        if analysis.sentiment.subjectivity > 0.7:\n",
    "            if analysis.sentiment.polarity <= 0.4:\n",
    "                neg_correct += 1\n",
    "            neg_count +=1\n",
    "\n",
    "print(\"Positive accuracy = {}% via {} samples\".format(pos_correct/pos_count*100.0, pos_count))\n",
    "print(\"Negative accuracy = {}% via {} samples\".format(neg_correct/neg_count*100.0, neg_count))"
   ]
  },
  {
   "cell_type": "code",
   "execution_count": null,
   "metadata": {},
   "outputs": [],
   "source": []
  }
 ],
 "metadata": {
  "kernelspec": {
   "display_name": "Python 3",
   "language": "python",
   "name": "python3"
  },
  "language_info": {
   "codemirror_mode": {
    "name": "ipython",
    "version": 3
   },
   "file_extension": ".py",
   "mimetype": "text/x-python",
   "name": "python",
   "nbconvert_exporter": "python",
   "pygments_lexer": "ipython3",
   "version": "3.8.3"
  }
 },
 "nbformat": 4,
 "nbformat_minor": 2
}
